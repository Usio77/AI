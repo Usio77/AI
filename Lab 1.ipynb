{
 "cells": [
  {
   "cell_type": "code",
   "execution_count": 6,
   "metadata": {},
   "outputs": [
    {
     "name": "stdout",
     "output_type": "stream",
     "text": [
      "2\n",
      "3\n",
      "5\n",
      "7\n"
     ]
    }
   ],
   "source": [
    "# prime number\n",
    "lower_limit = int(input(\"Enter the lower limit:\"))\n",
    "upper_limit = int(input(\"Enter the upper limit:\"))\n",
    "for i in range(lower_limit+1,upper_limit):\n",
    "    count=0\n",
    "    for j in range(1,i):\n",
    "        if(i%j == 0):\n",
    "            count+=1\n",
    "    if count==1:\n",
    "        print(i) \n"
   ]
  },
  {
   "cell_type": "code",
   "execution_count": 9,
   "metadata": {},
   "outputs": [
    {
     "name": "stdout",
     "output_type": "stream",
     "text": [
      "1232 is not palindrome\n"
     ]
    }
   ],
   "source": [
    "# palindrome\n",
    "num = int(input(\"Enter the number\"))\n",
    "temp = num\n",
    "result = 0\n",
    "while (temp != 0):\n",
    "    result = result * 10 + temp % 10\n",
    "    temp = temp // 10\n",
    "if (result == num):\n",
    "    print(f\"{num} is palindrome\")\n",
    "else:\n",
    "    print(f\"{num} is not palindrome\")"
   ]
  },
  {
   "cell_type": "code",
   "execution_count": 10,
   "metadata": {},
   "outputs": [
    {
     "name": "stdout",
     "output_type": "stream",
     "text": [
      "0\n",
      "1\n",
      "1\n",
      "2\n",
      "3\n",
      "5\n",
      "8\n",
      "13\n",
      "21\n",
      "34\n"
     ]
    }
   ],
   "source": [
    "# Fibonacci\n",
    "num = int(input(\"Enter the number of fibonacii series to be generated\"))\n",
    "a=0\n",
    "b=1\n",
    "if(num == 0):\n",
    "    print(\"Please enter a  number\")\n",
    "elif(num == 1):\n",
    "    print(a)\n",
    "elif(num==2):\n",
    "    print(f\"{a} \\n {b}\")\n",
    "else:\n",
    "    for i in range(num):\n",
    "        print(a)\n",
    "        c = a + b\n",
    "        a = b\n",
    "        b = c\n",
    "        "
   ]
  },
  {
   "cell_type": "code",
   "execution_count": 2,
   "metadata": {},
   "outputs": [
    {
     "name": "stdout",
     "output_type": "stream",
     "text": [
      "678\n",
      "678 is your correct guess. Congratulations\n"
     ]
    }
   ],
   "source": [
    "import random\n",
    "num_1 = random.randint(0,999)\n",
    "print(num_1)\n",
    "num_2 = int(input(\"Enter your guessed number:\"))\n",
    "while(num_1 != num_2):\n",
    "    if(num_1>num_2):\n",
    "        print(\"Please increase the value of your number\\n\")\n",
    "        num_2 = int(input(\"Enter your guessed number:\"))\n",
    "    else:\n",
    "        print(\"Please decrease the value of your number\\n\")\n",
    "        num_2 = int(input(\"Enter your guessed number:\"))\n",
    "print(f\"{num_1} is your correct guess. Congratulations\")\n",
    "    \n",
    "\n",
    "    \n"
   ]
  }
 ],
 "metadata": {
  "kernelspec": {
   "display_name": "Python 3",
   "language": "python",
   "name": "python3"
  },
  "language_info": {
   "codemirror_mode": {
    "name": "ipython",
    "version": 3
   },
   "file_extension": ".py",
   "mimetype": "text/x-python",
   "name": "python",
   "nbconvert_exporter": "python",
   "pygments_lexer": "ipython3",
   "version": "3.11.7"
  }
 },
 "nbformat": 4,
 "nbformat_minor": 2
}
